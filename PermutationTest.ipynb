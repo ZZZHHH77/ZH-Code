{
 "cells": [
  {
   "cell_type": "code",
   "execution_count": null,
   "id": "5583da69-c528-41de-98ed-8fd191046ba1",
   "metadata": {},
   "outputs": [],
   "source": [
    "import pandas as pd\n",
    "import numpy as np\n",
    "import mne\n",
    "import matplotlib.pyplot as plt\n",
    "from mne.stats import permutation_cluster_test\n",
    "\n",
    "\n",
    "#导入要比较的数据\n",
    "c_data = cache.read(rf\"{CACHE_DIR}\\avg_all_patient_level_power\\C_{brain_zone}_delta\")\n",
    "i_data = cache.read(rf\"{CACHE_DIR}\\avg_all_patient_level_power\\I_{brain_zone}_delta\")\n",
    "\n",
    "cmp_data = []\n",
    "real_data = []\n",
    "for i in range(c_data.shape[0]):\n",
    "    real_data.append(i_data[i] - c_data[i])\n",
    "    cmp_data.append(np.zeros(c_data[i].shape))\n",
    "cmp_data = np.mean(np.array(cmp_data), axis=1)\n",
    "real_data = np.mean(np.array(real_data), axis=1)\n",
    "\n",
    "times = []\n",
    "for i in range(2001):\n",
    "    times.append(-0.5 + 1 / 1000 * i)\n",
    "print(cmp_data.shape)\n",
    "T_obs, clusters, cluster_p_values, H0 = \\\n",
    "    permutation_cluster_test([cmp_data, real_data], tail=0, out_type='mask',\n",
    "                             n_permutations=1000)\n",
    "print(enumerate(clusters))\n",
    "for i_c, c in enumerate(clusters):\n",
    "    c = c[0]\n",
    "\n",
    "    if cluster_p_values[i_c] <= 0.05 and times[c.start]>0:\n",
    "        h = ax.axvspan(times[c.start], times[c.stop - 1],\n",
    "                       color='gray', alpha=0.3,label=\"cluster p-value < 0.05\" if i_c == 0 else \"\" )\n",
    "        print({brain_zone}, times[c.start], times[c.stop - 1],'T_obs',T_obs[i_c],'cluster_p_values',cluster_p_values[i_c])\n",
    "ax.axvline(0,color='dimgray',linestyle='--',linewidth=5)\n",
    "ax.set_xlim(-0.5, 1.5)\n",
    "#ax.set_xlim(-1.5, 0.5)\n",
    "ax.set(xlabel='Time (s)', ylabel=f'Delta power',\n",
    "       title=f\"{brain_zone}\")\n",
    "plt.show()\n",
    "#fig.savefig(f\"./CueAlignedavgpower_patient_level/ALLpatient_{brain_zone}_{task_type_list[0]}_{task_type_list[1]}_delta_off.png\",dpi=300)\n"
   ]
  }
 ],
 "metadata": {
  "kernelspec": {
   "display_name": "Python 3 (ipykernel)",
   "language": "python",
   "name": "python3"
  },
  "language_info": {
   "codemirror_mode": {
    "name": "ipython",
    "version": 3
   },
   "file_extension": ".py",
   "mimetype": "text/x-python",
   "name": "python",
   "nbconvert_exporter": "python",
   "pygments_lexer": "ipython3",
   "version": "3.8.6"
  }
 },
 "nbformat": 4,
 "nbformat_minor": 5
}
